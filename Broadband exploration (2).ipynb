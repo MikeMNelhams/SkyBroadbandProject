{
 "cells": [
  {
   "cell_type": "code",
   "execution_count": 2,
   "metadata": {},
   "outputs": [
    {
     "name": "stderr",
     "output_type": "stream",
     "text": [
      "C:\\Users\\Pablo GDT\\AppData\\Local\\Programs\\Python\\Python38\\lib\\site-packages\\numpy\\_distributor_init.py:30: UserWarning: loaded more than 1 DLL from .libs:\n",
      "C:\\Users\\Pablo GDT\\AppData\\Local\\Programs\\Python\\Python38\\lib\\site-packages\\numpy\\.libs\\libopenblas.PYQHXLVVQ7VESDPUVUADXEVJOBGHJPAY.gfortran-win_amd64.dll\n",
      "C:\\Users\\Pablo GDT\\AppData\\Local\\Programs\\Python\\Python38\\lib\\site-packages\\numpy\\.libs\\libopenblas.QVLO2T66WEPI7JZ63PS3HMOHFEY472BC.gfortran-win_amd64.dll\n",
      "  warnings.warn(\"loaded more than 1 DLL from .libs:\"\n"
     ]
    },
    {
     "name": "stdout",
     "output_type": "stream",
     "text": [
      "<class 'pandas.core.frame.DataFrame'>\n",
      "RangeIndex: 3465 entries, 0 to 3464\n",
      "Data columns (total 78 columns):\n",
      " #   Column                             Non-Null Count  Dtype  \n",
      "---  ------                             --------------  -----  \n",
      " 0   unit_id                            3465 non-null   int64  \n",
      " 1   ISP                                3465 non-null   object \n",
      " 2   Technology                         3465 non-null   object \n",
      " 3   PACKAGE (download by upload)       3465 non-null   int64  \n",
      " 4   Distance from exchange - DSL only  338 non-null    object \n",
      " 5   MarketClass                        3465 non-null   object \n",
      " 6   Region                             3465 non-null   object \n",
      " 7   Country                            3465 non-null   object \n",
      " 8   Geography                          3465 non-null   object \n",
      " 9   Download - 24 (ave)                3465 non-null   float64\n",
      " 10  Download - 24 min(ave)             3465 non-null   float64\n",
      " 11  Download - 24 max (ave)            3465 non-null   float64\n",
      " 12  Download - peak (ave)              3465 non-null   float64\n",
      " 13  Download - peak min(ave)           3465 non-null   float64\n",
      " 14  Download - peak max (ave)          3465 non-null   float64\n",
      " 15  Download - 0-6am                   3452 non-null   float64\n",
      " 16  Download - 6am-12am                3413 non-null   float64\n",
      " 17  Download - 12-18pm                 3462 non-null   float64\n",
      " 18  Download - 18-19pm                 3392 non-null   float64\n",
      " 19  Download - 19-20pm                 3462 non-null   float64\n",
      " 20  Download - 20-21pm                 3419 non-null   float64\n",
      " 21  Download - 21-22pm                 3463 non-null   float64\n",
      " 22  Download - 22-23pm                 3414 non-null   float64\n",
      " 23  Download - 23pm-00midnight         3460 non-null   float64\n",
      " 24  Upload - 24 (ave)                  3465 non-null   float64\n",
      " 25  Upload - 24 min(ave)               3465 non-null   float64\n",
      " 26  Upload - 24 max (ave)              3465 non-null   float64\n",
      " 27  Upload - peak (ave)                3465 non-null   float64\n",
      " 28  Upload - peak min(ave)             3465 non-null   float64\n",
      " 29  Upload - peak max (ave)            3465 non-null   float64\n",
      " 30  DNS Failure 24hr                   3465 non-null   object \n",
      " 31  DNS Failure peak                   3465 non-null   object \n",
      " 32  DNS Rate - 24h                     3465 non-null   float64\n",
      " 33  DNS Rate - peak                    3465 non-null   float64\n",
      " 34  Jitter-upstream - 24h              3455 non-null   float64\n",
      " 35  Jitter-upstream - peak             3454 non-null   float64\n",
      " 36  Jitter-downstream - 24h            3455 non-null   float64\n",
      " 37  Jitter-downtream - peak            3454 non-null   float64\n",
      " 38  Latency - 24h                      3465 non-null   float64\n",
      " 39  Latency - peak                     3465 non-null   float64\n",
      " 40  Packet Loss - 24h                  3465 non-null   object \n",
      " 41  Packet Loss - peak                 3465 non-null   object \n",
      " 42  Web loading - 24h                  3105 non-null   float64\n",
      " 43  Web loading - peak                 3105 non-null   float64\n",
      " 44  Disconnections                     3464 non-null   float64\n",
      " 45  YouTubeUHD24hr                     2948 non-null   object \n",
      " 46  YouTubeHD24hr                      2948 non-null   object \n",
      " 47  YouTubeSD24hr                      2948 non-null   object \n",
      " 48  YouTubeFailed24hr                  2948 non-null   object \n",
      " 49  YouTubeStartupDelay24hr            2948 non-null   float64\n",
      " 50  YouTubeUHDPeak                     2642 non-null   object \n",
      " 51  YouTubeHDPeak                      2642 non-null   object \n",
      " 52  YouTubeSDPeak                      2642 non-null   object \n",
      " 53  YouTubeFailedPeak                  2642 non-null   object \n",
      " 54  YouTubeStartupDelayPeak            2642 non-null   float64\n",
      " 55  NetflixUHD24hr                     3054 non-null   object \n",
      " 56  NetflixHD24hr                      3054 non-null   object \n",
      " 57  NetflixSD24hr                      3054 non-null   object \n",
      " 58  NetflixFailed24hr                  3054 non-null   object \n",
      " 59  NetflixStartupDelay24hr            3054 non-null   float64\n",
      " 60  NetflixUHDPeak                     2738 non-null   object \n",
      " 61  NetflixHDPeak                      2738 non-null   object \n",
      " 62  NetflixSDPeak                      2738 non-null   object \n",
      " 63  NetflixFailedPeak                  2738 non-null   object \n",
      " 64  NetflixStartupDelayPeak            2738 non-null   float64\n",
      " 65  iPlayerUHD24hr                     2952 non-null   object \n",
      " 66  iPlayerHD24hr                      2952 non-null   object \n",
      " 67  iPlayerSD24hr                      2952 non-null   object \n",
      " 68  iPlayerFailed24hr                  2952 non-null   object \n",
      " 69  iPlayerStartupDelay24hr            2950 non-null   float64\n",
      " 70  iPlayerUHDPeak                     2647 non-null   object \n",
      " 71  iPlayerHDPeak                      2647 non-null   object \n",
      " 72  iPlayerSDPeak                      2647 non-null   object \n",
      " 73  iPlayerFailedPeak                  2647 non-null   object \n",
      " 74  iPlayerStartupDelayPeak            2644 non-null   float64\n",
      " 75  isp_wghts                          3075 non-null   float64\n",
      " 76  Natweight                          1985 non-null   float64\n",
      " 77  rural_weight                       1975 non-null   float64\n",
      "dtypes: float64(41), int64(2), object(35)\n",
      "memory usage: 2.1+ MB\n"
     ]
    }
   ],
   "source": [
    "%matplotlib inline\n",
    "import numpy as np\n",
    "import pandas as pd\n",
    "from pandas.plotting import scatter_matrix\n",
    "import sklearn as sk\n",
    "import matplotlib.pyplot as plt\n",
    "import seaborn as sns\n",
    "\n",
    "df = pd.read_csv(r'D:\\Uni work\\Engineering Mathematics Work\\MDM3\\Sky broadband\\2019-ISP-Broadband-performance-data.csv')\n",
    "#print(df)\n",
    "df.info()\n"
   ]
  },
  {
   "cell_type": "code",
   "execution_count": 3,
   "metadata": {},
   "outputs": [],
   "source": [
    "skyData = df[df['ISP']== 'Sky']\n",
    "otherData = df[df['ISP']!= 'Sky']\n"
   ]
  },
  {
   "cell_type": "code",
   "execution_count": 4,
   "metadata": {},
   "outputs": [
    {
     "data": {
      "text/plain": [
       "FTTC              2100\n",
       "Cable              529\n",
       "FTTP               454\n",
       "ADSL2              293\n",
       "ADSL1               45\n",
       "Fixed Wireless      44\n",
       "Name: Technology, dtype: int64"
      ]
     },
     "execution_count": 4,
     "metadata": {},
     "output_type": "execute_result"
    }
   ],
   "source": [
    "skyData.describe()\n",
    "\n",
    "skyData.Technology.value_counts()\n",
    "df.Technology.value_counts()"
   ]
  },
  {
   "cell_type": "code",
   "execution_count": 5,
   "metadata": {},
   "outputs": [
    {
     "name": "stdout",
     "output_type": "stream",
     "text": [
      "8.542568542568544\n"
     ]
    },
    {
     "data": {
      "text/html": [
       "<div>\n",
       "<style scoped>\n",
       "    .dataframe tbody tr th:only-of-type {\n",
       "        vertical-align: middle;\n",
       "    }\n",
       "\n",
       "    .dataframe tbody tr th {\n",
       "        vertical-align: top;\n",
       "    }\n",
       "\n",
       "    .dataframe thead th {\n",
       "        text-align: right;\n",
       "    }\n",
       "</style>\n",
       "<table border=\"1\" class=\"dataframe\">\n",
       "  <thead>\n",
       "    <tr style=\"text-align: right;\">\n",
       "      <th></th>\n",
       "      <th>unit_id</th>\n",
       "      <th>PACKAGE (download by upload)</th>\n",
       "      <th>Download - 24 (ave)</th>\n",
       "      <th>Download - 24 min(ave)</th>\n",
       "      <th>Download - 24 max (ave)</th>\n",
       "      <th>Download - peak (ave)</th>\n",
       "      <th>Download - peak min(ave)</th>\n",
       "      <th>Download - peak max (ave)</th>\n",
       "      <th>Download - 0-6am</th>\n",
       "      <th>Download - 6am-12am</th>\n",
       "      <th>...</th>\n",
       "      <th>Disconnections</th>\n",
       "      <th>YouTubeStartupDelay24hr</th>\n",
       "      <th>YouTubeStartupDelayPeak</th>\n",
       "      <th>NetflixStartupDelay24hr</th>\n",
       "      <th>NetflixStartupDelayPeak</th>\n",
       "      <th>iPlayerStartupDelay24hr</th>\n",
       "      <th>iPlayerStartupDelayPeak</th>\n",
       "      <th>isp_wghts</th>\n",
       "      <th>Natweight</th>\n",
       "      <th>rural_weight</th>\n",
       "    </tr>\n",
       "  </thead>\n",
       "  <tbody>\n",
       "    <tr>\n",
       "      <th>count</th>\n",
       "      <td>3.169000e+03</td>\n",
       "      <td>3169.000000</td>\n",
       "      <td>3169.000000</td>\n",
       "      <td>3169.000000</td>\n",
       "      <td>3169.000000</td>\n",
       "      <td>3169.000000</td>\n",
       "      <td>3169.000000</td>\n",
       "      <td>3169.000000</td>\n",
       "      <td>3156.000000</td>\n",
       "      <td>3118.000000</td>\n",
       "      <td>...</td>\n",
       "      <td>3168.000000</td>\n",
       "      <td>2669.000000</td>\n",
       "      <td>2363.000000</td>\n",
       "      <td>2760.000000</td>\n",
       "      <td>2444.000000</td>\n",
       "      <td>2663.000000</td>\n",
       "      <td>2357.000000</td>\n",
       "      <td>2790.000000</td>\n",
       "      <td>1700.000000</td>\n",
       "      <td>1690.000000</td>\n",
       "    </tr>\n",
       "    <tr>\n",
       "      <th>mean</th>\n",
       "      <td>1.663177e+06</td>\n",
       "      <td>100.293784</td>\n",
       "      <td>87.998703</td>\n",
       "      <td>77.078741</td>\n",
       "      <td>91.481209</td>\n",
       "      <td>86.691048</td>\n",
       "      <td>83.761717</td>\n",
       "      <td>88.972322</td>\n",
       "      <td>88.845285</td>\n",
       "      <td>89.332168</td>\n",
       "      <td>...</td>\n",
       "      <td>0.396806</td>\n",
       "      <td>913.733335</td>\n",
       "      <td>888.408345</td>\n",
       "      <td>992.647511</td>\n",
       "      <td>1055.840925</td>\n",
       "      <td>975.376744</td>\n",
       "      <td>994.838638</td>\n",
       "      <td>1.000000</td>\n",
       "      <td>0.879286</td>\n",
       "      <td>0.954063</td>\n",
       "    </tr>\n",
       "    <tr>\n",
       "      <th>std</th>\n",
       "      <td>4.358337e+06</td>\n",
       "      <td>100.643833</td>\n",
       "      <td>97.348667</td>\n",
       "      <td>83.172809</td>\n",
       "      <td>102.851608</td>\n",
       "      <td>95.947237</td>\n",
       "      <td>91.560474</td>\n",
       "      <td>99.690740</td>\n",
       "      <td>98.138737</td>\n",
       "      <td>98.624895</td>\n",
       "      <td>...</td>\n",
       "      <td>1.926980</td>\n",
       "      <td>515.257780</td>\n",
       "      <td>541.428770</td>\n",
       "      <td>643.157194</td>\n",
       "      <td>715.133542</td>\n",
       "      <td>718.979782</td>\n",
       "      <td>688.238384</td>\n",
       "      <td>0.301202</td>\n",
       "      <td>1.205677</td>\n",
       "      <td>0.594665</td>\n",
       "    </tr>\n",
       "    <tr>\n",
       "      <th>min</th>\n",
       "      <td>1.323000e+03</td>\n",
       "      <td>8.000000</td>\n",
       "      <td>0.160000</td>\n",
       "      <td>0.140000</td>\n",
       "      <td>0.210000</td>\n",
       "      <td>0.150000</td>\n",
       "      <td>0.140000</td>\n",
       "      <td>0.160000</td>\n",
       "      <td>0.160000</td>\n",
       "      <td>0.160000</td>\n",
       "      <td>...</td>\n",
       "      <td>0.000000</td>\n",
       "      <td>384.920000</td>\n",
       "      <td>372.150000</td>\n",
       "      <td>71.920000</td>\n",
       "      <td>85.260000</td>\n",
       "      <td>149.230000</td>\n",
       "      <td>152.100000</td>\n",
       "      <td>0.237500</td>\n",
       "      <td>0.000000</td>\n",
       "      <td>0.267270</td>\n",
       "    </tr>\n",
       "    <tr>\n",
       "      <th>25%</th>\n",
       "      <td>1.724040e+05</td>\n",
       "      <td>38.000000</td>\n",
       "      <td>34.250000</td>\n",
       "      <td>29.990000</td>\n",
       "      <td>35.400000</td>\n",
       "      <td>33.360000</td>\n",
       "      <td>32.550000</td>\n",
       "      <td>34.130000</td>\n",
       "      <td>34.950000</td>\n",
       "      <td>34.777500</td>\n",
       "      <td>...</td>\n",
       "      <td>0.030000</td>\n",
       "      <td>579.780000</td>\n",
       "      <td>573.265000</td>\n",
       "      <td>521.102500</td>\n",
       "      <td>541.695000</td>\n",
       "      <td>563.250000</td>\n",
       "      <td>589.230000</td>\n",
       "      <td>0.887500</td>\n",
       "      <td>0.069100</td>\n",
       "      <td>0.507280</td>\n",
       "    </tr>\n",
       "    <tr>\n",
       "      <th>50%</th>\n",
       "      <td>8.149130e+05</td>\n",
       "      <td>76.000000</td>\n",
       "      <td>58.000000</td>\n",
       "      <td>52.450000</td>\n",
       "      <td>59.620000</td>\n",
       "      <td>57.140000</td>\n",
       "      <td>55.800000</td>\n",
       "      <td>58.270000</td>\n",
       "      <td>59.060000</td>\n",
       "      <td>59.115000</td>\n",
       "      <td>...</td>\n",
       "      <td>0.100000</td>\n",
       "      <td>908.580000</td>\n",
       "      <td>885.600000</td>\n",
       "      <td>864.315000</td>\n",
       "      <td>865.955000</td>\n",
       "      <td>792.320000</td>\n",
       "      <td>818.920000</td>\n",
       "      <td>1.000000</td>\n",
       "      <td>0.598000</td>\n",
       "      <td>0.964130</td>\n",
       "    </tr>\n",
       "    <tr>\n",
       "      <th>75%</th>\n",
       "      <td>9.484820e+05</td>\n",
       "      <td>76.000000</td>\n",
       "      <td>75.850000</td>\n",
       "      <td>73.810000</td>\n",
       "      <td>76.850000</td>\n",
       "      <td>75.320000</td>\n",
       "      <td>74.670000</td>\n",
       "      <td>75.910000</td>\n",
       "      <td>76.690000</td>\n",
       "      <td>76.717500</td>\n",
       "      <td>...</td>\n",
       "      <td>0.200000</td>\n",
       "      <td>1045.890000</td>\n",
       "      <td>1029.630000</td>\n",
       "      <td>1330.935000</td>\n",
       "      <td>1407.790000</td>\n",
       "      <td>1143.130000</td>\n",
       "      <td>1159.180000</td>\n",
       "      <td>1.000000</td>\n",
       "      <td>1.158650</td>\n",
       "      <td>1.087530</td>\n",
       "    </tr>\n",
       "    <tr>\n",
       "      <th>max</th>\n",
       "      <td>3.004837e+07</td>\n",
       "      <td>1000.000000</td>\n",
       "      <td>938.670000</td>\n",
       "      <td>914.660000</td>\n",
       "      <td>939.370000</td>\n",
       "      <td>938.920000</td>\n",
       "      <td>938.200000</td>\n",
       "      <td>939.290000</td>\n",
       "      <td>934.310000</td>\n",
       "      <td>937.660000</td>\n",
       "      <td>...</td>\n",
       "      <td>52.730000</td>\n",
       "      <td>6941.500000</td>\n",
       "      <td>12252.070000</td>\n",
       "      <td>8648.310000</td>\n",
       "      <td>8800.070000</td>\n",
       "      <td>12518.310000</td>\n",
       "      <td>13168.350000</td>\n",
       "      <td>3.150000</td>\n",
       "      <td>6.000100</td>\n",
       "      <td>2.662810</td>\n",
       "    </tr>\n",
       "  </tbody>\n",
       "</table>\n",
       "<p>8 rows × 43 columns</p>\n",
       "</div>"
      ],
      "text/plain": [
       "            unit_id  PACKAGE (download by upload)  Download - 24 (ave)  \\\n",
       "count  3.169000e+03                   3169.000000          3169.000000   \n",
       "mean   1.663177e+06                    100.293784            87.998703   \n",
       "std    4.358337e+06                    100.643833            97.348667   \n",
       "min    1.323000e+03                      8.000000             0.160000   \n",
       "25%    1.724040e+05                     38.000000            34.250000   \n",
       "50%    8.149130e+05                     76.000000            58.000000   \n",
       "75%    9.484820e+05                     76.000000            75.850000   \n",
       "max    3.004837e+07                   1000.000000           938.670000   \n",
       "\n",
       "       Download - 24 min(ave)  Download - 24 max (ave)  Download - peak (ave)  \\\n",
       "count             3169.000000              3169.000000            3169.000000   \n",
       "mean                77.078741                91.481209              86.691048   \n",
       "std                 83.172809               102.851608              95.947237   \n",
       "min                  0.140000                 0.210000               0.150000   \n",
       "25%                 29.990000                35.400000              33.360000   \n",
       "50%                 52.450000                59.620000              57.140000   \n",
       "75%                 73.810000                76.850000              75.320000   \n",
       "max                914.660000               939.370000             938.920000   \n",
       "\n",
       "       Download - peak min(ave)  Download - peak max (ave)  Download - 0-6am  \\\n",
       "count               3169.000000                3169.000000       3156.000000   \n",
       "mean                  83.761717                  88.972322         88.845285   \n",
       "std                   91.560474                  99.690740         98.138737   \n",
       "min                    0.140000                   0.160000          0.160000   \n",
       "25%                   32.550000                  34.130000         34.950000   \n",
       "50%                   55.800000                  58.270000         59.060000   \n",
       "75%                   74.670000                  75.910000         76.690000   \n",
       "max                  938.200000                 939.290000        934.310000   \n",
       "\n",
       "       Download - 6am-12am  ...  Disconnections  YouTubeStartupDelay24hr  \\\n",
       "count          3118.000000  ...     3168.000000              2669.000000   \n",
       "mean             89.332168  ...        0.396806               913.733335   \n",
       "std              98.624895  ...        1.926980               515.257780   \n",
       "min               0.160000  ...        0.000000               384.920000   \n",
       "25%              34.777500  ...        0.030000               579.780000   \n",
       "50%              59.115000  ...        0.100000               908.580000   \n",
       "75%              76.717500  ...        0.200000              1045.890000   \n",
       "max             937.660000  ...       52.730000              6941.500000   \n",
       "\n",
       "       YouTubeStartupDelayPeak  NetflixStartupDelay24hr  \\\n",
       "count              2363.000000              2760.000000   \n",
       "mean                888.408345               992.647511   \n",
       "std                 541.428770               643.157194   \n",
       "min                 372.150000                71.920000   \n",
       "25%                 573.265000               521.102500   \n",
       "50%                 885.600000               864.315000   \n",
       "75%                1029.630000              1330.935000   \n",
       "max               12252.070000              8648.310000   \n",
       "\n",
       "       NetflixStartupDelayPeak  iPlayerStartupDelay24hr  \\\n",
       "count              2444.000000              2663.000000   \n",
       "mean               1055.840925               975.376744   \n",
       "std                 715.133542               718.979782   \n",
       "min                  85.260000               149.230000   \n",
       "25%                 541.695000               563.250000   \n",
       "50%                 865.955000               792.320000   \n",
       "75%                1407.790000              1143.130000   \n",
       "max                8800.070000             12518.310000   \n",
       "\n",
       "       iPlayerStartupDelayPeak    isp_wghts    Natweight  rural_weight  \n",
       "count              2357.000000  2790.000000  1700.000000   1690.000000  \n",
       "mean                994.838638     1.000000     0.879286      0.954063  \n",
       "std                 688.238384     0.301202     1.205677      0.594665  \n",
       "min                 152.100000     0.237500     0.000000      0.267270  \n",
       "25%                 589.230000     0.887500     0.069100      0.507280  \n",
       "50%                 818.920000     1.000000     0.598000      0.964130  \n",
       "75%                1159.180000     1.000000     1.158650      1.087530  \n",
       "max               13168.350000     3.150000     6.000100      2.662810  \n",
       "\n",
       "[8 rows x 43 columns]"
      ]
     },
     "execution_count": 5,
     "metadata": {},
     "output_type": "execute_result"
    }
   ],
   "source": [
    "# % of data for ISP provider Sky \n",
    "print(len(skyData)/len(df)*100)\n",
    "otherData.describe()"
   ]
  },
  {
   "cell_type": "code",
   "execution_count": 6,
   "metadata": {},
   "outputs": [
    {
     "data": {
      "text/plain": [
       "(3169, 78)"
      ]
     },
     "execution_count": 6,
     "metadata": {},
     "output_type": "execute_result"
    }
   ],
   "source": [
    "#skyData.shape\n",
    "otherData.shape"
   ]
  },
  {
   "cell_type": "code",
   "execution_count": 7,
   "metadata": {},
   "outputs": [
    {
     "data": {
      "text/plain": [
       "<matplotlib.legend.Legend at 0x23495b2d580>"
      ]
     },
     "execution_count": 7,
     "metadata": {},
     "output_type": "execute_result"
    },
    {
     "data": {
      "image/png": "[encoded data removed]",
      "text/plain": [
       "<Figure size 432x288 with 1 Axes>"
      ]
     },
     "metadata": {
      "needs_background": "light"
     },
     "output_type": "display_data"
    }
   ],
   "source": [
    "x= df[\"Latency - 24h\"]\n",
    "y= df[\"Download - 24 (ave)\"]\n",
    "#print(x)\n",
    "\n",
    "plt.scatter(x,y,label = \"Competitor ISPs\")\n",
    "plt.xlabel(\"Latency - 24h\")\n",
    "plt.ylabel(\"Download - 24h (ave)\")\n",
    "plt.title( \"Daily latency vs Download speed\")\n",
    "\n",
    "x2= skyData[\"Latency - 24h\"]\n",
    "y2= skyData[\"Download - 24 (ave)\"]\n",
    "plt.scatter(x2,y2,label = \"Sky broadband\")\n",
    "plt.legend(loc=\"best\")"
   ]
  },
  {
   "cell_type": "code",
   "execution_count": 8,
   "metadata": {},
   "outputs": [
    {
     "ename": "NameError",
     "evalue": "name 'shrunk' is not defined",
     "output_type": "error",
     "traceback": [
      "\u001b[1;31m---------------------------------------------------------------------------\u001b[0m",
      "\u001b[1;31mNameError\u001b[0m                                 Traceback (most recent call last)",
      "\u001b[1;32m<ipython-input-8-b19efe712a1c>\u001b[0m in \u001b[0;36m<module>\u001b[1;34m\u001b[0m\n\u001b[1;32m----> 1\u001b[1;33m \u001b[0mcorr\u001b[0m\u001b[1;33m=\u001b[0m \u001b[0mshrunk\u001b[0m\u001b[1;33m.\u001b[0m\u001b[0mcorr\u001b[0m\u001b[1;33m(\u001b[0m\u001b[1;33m)\u001b[0m\u001b[1;33m\u001b[0m\u001b[1;33m\u001b[0m\u001b[0m\n\u001b[0m\u001b[0;32m      2\u001b[0m \u001b[0mcorr\u001b[0m\u001b[1;33m[\u001b[0m\u001b[1;34m\"Download - 24 (ave)\"\u001b[0m\u001b[1;33m]\u001b[0m\u001b[1;33m.\u001b[0m\u001b[0msort_values\u001b[0m\u001b[1;33m(\u001b[0m\u001b[0mascending\u001b[0m\u001b[1;33m=\u001b[0m\u001b[1;32mFalse\u001b[0m\u001b[1;33m)\u001b[0m\u001b[1;33m\u001b[0m\u001b[1;33m\u001b[0m\u001b[0m\n\u001b[0;32m      3\u001b[0m \u001b[1;31m#print(corr)\u001b[0m\u001b[1;33m\u001b[0m\u001b[1;33m\u001b[0m\u001b[1;33m\u001b[0m\u001b[0m\n\u001b[0;32m      4\u001b[0m \u001b[0mdf\u001b[0m\u001b[1;33m.\u001b[0m\u001b[0mcolumns\u001b[0m\u001b[1;33m.\u001b[0m\u001b[0mvalues\u001b[0m\u001b[1;33m\u001b[0m\u001b[1;33m\u001b[0m\u001b[0m\n\u001b[0;32m      5\u001b[0m features= ['ISP', 'Technology', 'PACKAGE (download by upload)',\n",
      "\u001b[1;31mNameError\u001b[0m: name 'shrunk' is not defined"
     ]
    }
   ],
   "source": [
    "corr= shrunk.corr()\n",
    "corr[\"Download - 24 (ave)\"].sort_values(ascending=False)\n",
    "#print(corr)\n",
    "df.columns.values\n",
    "features= ['ISP', 'Technology', 'PACKAGE (download by upload)',\n",
    "       'Distance from exchange - DSL only', \n",
    "       'Country', 'Geography', 'Download - 24 (ave)',\n",
    "       'Download - 24 min(ave)', 'Download - 24 max (ave)',\n",
    "       'Upload - 24 (ave)', 'Upload - 24 min(ave)',\n",
    "       'Upload - 24 max (ave)', \n",
    "       'DNS Failure 24hr', 'DNS Rate - 24h',\n",
    "       'DNS Rate - peak', 'Jitter-upstream - 24h',\n",
    "       'Jitter-downstream - 24h', 'Latency - 24h', \n",
    "       'Packet Loss - 24h','Web loading - 24h',\n",
    "       'Web loading - peak', 'Disconnections']\n",
    "#            'YouTubeUHD24hr',\n",
    "#        'YouTubeHD24hr', 'YouTubeSD24hr', 'YouTubeFailed24hr',\n",
    "#        'YouTubeStartupDelay24hr', 'YouTubeUHDPeak', 'YouTubeHDPeak',\n",
    "#        'YouTubeSDPeak', 'YouTubeFailedPeak', 'YouTubeStartupDelayPeak',\n",
    "#        'NetflixUHD24hr', 'NetflixHD24hr', 'NetflixSD24hr',\n",
    "#        'NetflixFailed24hr', 'NetflixStartupDelay24hr', 'NetflixUHDPeak',\n",
    "#        'NetflixHDPeak', 'NetflixSDPeak', 'NetflixFailedPeak',\n",
    "#        'NetflixStartupDelayPeak', 'iPlayerUHD24hr', 'iPlayerHD24hr',\n",
    "#        'iPlayerSD24hr', 'iPlayerFailed24hr', 'iPlayerStartupDelay24hr',\n",
    "#        'iPlayerUHDPeak', 'iPlayerHDPeak', 'iPlayerSDPeak',\n",
    "#        'iPlayerFailedPeak', 'iPlayerStartupDelayPeak', 'isp_wghts',\n",
    "#        'Natweight', 'rural_weight']\n",
    "\n",
    "#scatter_matrix(df[features])\n",
    "#sns.pairplot(df,x_vars=[\"Download - 24 (ave)\"],y_vars=features[0:10])\n",
    "sns.pairplot(df,x_vars=[\"Download - 24 (ave)\"],y_vars=features[10:])\n",
    "\n"
   ]
  },
  {
   "cell_type": "code",
   "execution_count": 9,
   "metadata": {},
   "outputs": [
    {
     "ename": "NameError",
     "evalue": "name 'corr' is not defined",
     "output_type": "error",
     "traceback": [
      "\u001b[1;31m---------------------------------------------------------------------------\u001b[0m",
      "\u001b[1;31mNameError\u001b[0m                                 Traceback (most recent call last)",
      "\u001b[1;32m<ipython-input-9-17b2e6d7d7e7>\u001b[0m in \u001b[0;36m<module>\u001b[1;34m\u001b[0m\n\u001b[0;32m      1\u001b[0m \u001b[0mplt\u001b[0m\u001b[1;33m.\u001b[0m\u001b[0msubplots\u001b[0m\u001b[1;33m(\u001b[0m\u001b[0mfigsize\u001b[0m\u001b[1;33m=\u001b[0m\u001b[1;33m(\u001b[0m\u001b[1;36m30\u001b[0m\u001b[1;33m,\u001b[0m\u001b[1;36m15\u001b[0m\u001b[1;33m)\u001b[0m\u001b[1;33m)\u001b[0m\u001b[1;33m\u001b[0m\u001b[1;33m\u001b[0m\u001b[0m\n\u001b[1;32m----> 2\u001b[1;33m sns.heatmap(corr, vmin=-1,annot= True,annot_kws={\"size\": 7},fmt='.2f',\n\u001b[0m\u001b[0;32m      3\u001b[0m     \u001b[0mcmap\u001b[0m\u001b[1;33m=\u001b[0m\u001b[0msns\u001b[0m\u001b[1;33m.\u001b[0m\u001b[0mdiverging_palette\u001b[0m\u001b[1;33m(\u001b[0m\u001b[1;36m20\u001b[0m\u001b[1;33m,\u001b[0m \u001b[1;36m220\u001b[0m\u001b[1;33m,\u001b[0m \u001b[0mn\u001b[0m\u001b[1;33m=\u001b[0m\u001b[1;36m200\u001b[0m\u001b[1;33m)\u001b[0m\u001b[1;33m,\u001b[0m\u001b[1;33m\u001b[0m\u001b[1;33m\u001b[0m\u001b[0m\n\u001b[0;32m      4\u001b[0m     square=True)\n",
      "\u001b[1;31mNameError\u001b[0m: name 'corr' is not defined"
     ]
    },
    {
     "data": {
      "image/png": "[encoded data removed]",
      "text/plain": [
       "<Figure size 2160x1080 with 1 Axes>"
      ]
     },
     "metadata": {
      "needs_background": "light"
     },
     "output_type": "display_data"
    }
   ],
   "source": [
    "plt.subplots(figsize=(30,15))\n",
    "sns.heatmap(corr, vmin=-1,annot= True,annot_kws={\"size\": 7},fmt='.2f',\n",
    "    cmap=sns.diverging_palette(20, 220, n=200),\n",
    "    square=True)"
   ]
  },
  {
   "cell_type": "code",
   "execution_count": 19,
   "metadata": {},
   "outputs": [
    {
     "ename": "ValueError",
     "evalue": "Must specify `x_vars` and `y_vars`",
     "output_type": "error",
     "traceback": [
      "\u001b[1;31m---------------------------------------------------------------------------\u001b[0m",
      "\u001b[1;31mValueError\u001b[0m                                Traceback (most recent call last)",
      "\u001b[1;32m<ipython-input-19-9ce6d9390e2d>\u001b[0m in \u001b[0;36m<module>\u001b[1;34m\u001b[0m\n\u001b[1;32m----> 1\u001b[1;33m \u001b[0msns\u001b[0m\u001b[1;33m.\u001b[0m\u001b[0mpairplot\u001b[0m\u001b[1;33m(\u001b[0m\u001b[0mdf\u001b[0m\u001b[1;33m,\u001b[0m \u001b[0my_vars\u001b[0m\u001b[1;33m=\u001b[0m\u001b[1;33m[\u001b[0m\u001b[1;34m\"PACKAGE (download by upload)\"\u001b[0m\u001b[1;33m,\u001b[0m\u001b[1;34m\"Distance from exchange - DSL only\"\u001b[0m\u001b[1;33m,\u001b[0m\u001b[1;34m\"MarketClass\"\u001b[0m\u001b[1;33m,\u001b[0m\u001b[1;34m\"Region\"\u001b[0m\u001b[1;33m,\u001b[0m\u001b[1;34m\"Country\"\u001b[0m\u001b[1;33m,\u001b[0m\u001b[1;34m\"Geography\"\u001b[0m\u001b[1;33m,\u001b[0m\u001b[1;34m\"Download - 24 (ave)\"\u001b[0m\u001b[1;33m,\u001b[0m\u001b[1;34m\"Download - 24 min(ave)\"\u001b[0m\u001b[1;33m,\u001b[0m\u001b[1;34m\"Download - 24 max (ave)\"\u001b[0m\u001b[1;33m]\u001b[0m\u001b[1;33m)\u001b[0m\u001b[1;33m\u001b[0m\u001b[1;33m\u001b[0m\u001b[0m\n\u001b[0m",
      "\u001b[1;32m~\\AppData\\Local\\Programs\\Python\\Python38\\lib\\site-packages\\seaborn\\axisgrid.py\u001b[0m in \u001b[0;36mpairplot\u001b[1;34m(data, hue, hue_order, palette, vars, x_vars, y_vars, kind, diag_kind, markers, height, aspect, corner, dropna, plot_kws, diag_kws, grid_kws, size)\u001b[0m\n\u001b[0;32m   2090\u001b[0m     \u001b[1;31m# Set up the PairGrid\u001b[0m\u001b[1;33m\u001b[0m\u001b[1;33m\u001b[0m\u001b[1;33m\u001b[0m\u001b[0m\n\u001b[0;32m   2091\u001b[0m     \u001b[0mgrid_kws\u001b[0m\u001b[1;33m.\u001b[0m\u001b[0msetdefault\u001b[0m\u001b[1;33m(\u001b[0m\u001b[1;34m\"diag_sharey\"\u001b[0m\u001b[1;33m,\u001b[0m \u001b[0mdiag_kind\u001b[0m \u001b[1;33m==\u001b[0m \u001b[1;34m\"hist\"\u001b[0m\u001b[1;33m)\u001b[0m\u001b[1;33m\u001b[0m\u001b[1;33m\u001b[0m\u001b[0m\n\u001b[1;32m-> 2092\u001b[1;33m     grid = PairGrid(data, vars=vars, x_vars=x_vars, y_vars=y_vars, hue=hue,\n\u001b[0m\u001b[0;32m   2093\u001b[0m                     \u001b[0mhue_order\u001b[0m\u001b[1;33m=\u001b[0m\u001b[0mhue_order\u001b[0m\u001b[1;33m,\u001b[0m \u001b[0mpalette\u001b[0m\u001b[1;33m=\u001b[0m\u001b[0mpalette\u001b[0m\u001b[1;33m,\u001b[0m \u001b[0mcorner\u001b[0m\u001b[1;33m=\u001b[0m\u001b[0mcorner\u001b[0m\u001b[1;33m,\u001b[0m\u001b[1;33m\u001b[0m\u001b[1;33m\u001b[0m\u001b[0m\n\u001b[0;32m   2094\u001b[0m                     height=height, aspect=aspect, dropna=dropna, **grid_kws)\n",
      "\u001b[1;32m~\\AppData\\Local\\Programs\\Python\\Python38\\lib\\site-packages\\seaborn\\axisgrid.py\u001b[0m in \u001b[0;36m__init__\u001b[1;34m(self, data, hue, hue_order, palette, hue_kws, vars, x_vars, y_vars, corner, diag_sharey, height, aspect, layout_pad, despine, dropna, size)\u001b[0m\n\u001b[0;32m   1270\u001b[0m         \u001b[1;32melif\u001b[0m \u001b[1;33m(\u001b[0m\u001b[0mx_vars\u001b[0m \u001b[1;32mis\u001b[0m \u001b[1;32mnot\u001b[0m \u001b[1;32mNone\u001b[0m\u001b[1;33m)\u001b[0m \u001b[1;32mor\u001b[0m \u001b[1;33m(\u001b[0m\u001b[0my_vars\u001b[0m \u001b[1;32mis\u001b[0m \u001b[1;32mnot\u001b[0m \u001b[1;32mNone\u001b[0m\u001b[1;33m)\u001b[0m\u001b[1;33m:\u001b[0m\u001b[1;33m\u001b[0m\u001b[1;33m\u001b[0m\u001b[0m\n\u001b[0;32m   1271\u001b[0m             \u001b[1;32mif\u001b[0m \u001b[1;33m(\u001b[0m\u001b[0mx_vars\u001b[0m \u001b[1;32mis\u001b[0m \u001b[1;32mNone\u001b[0m\u001b[1;33m)\u001b[0m \u001b[1;32mor\u001b[0m \u001b[1;33m(\u001b[0m\u001b[0my_vars\u001b[0m \u001b[1;32mis\u001b[0m \u001b[1;32mNone\u001b[0m\u001b[1;33m)\u001b[0m\u001b[1;33m:\u001b[0m\u001b[1;33m\u001b[0m\u001b[1;33m\u001b[0m\u001b[0m\n\u001b[1;32m-> 1272\u001b[1;33m                 \u001b[1;32mraise\u001b[0m \u001b[0mValueError\u001b[0m\u001b[1;33m(\u001b[0m\u001b[1;34m\"Must specify `x_vars` and `y_vars`\"\u001b[0m\u001b[1;33m)\u001b[0m\u001b[1;33m\u001b[0m\u001b[1;33m\u001b[0m\u001b[0m\n\u001b[0m\u001b[0;32m   1273\u001b[0m         \u001b[1;32melse\u001b[0m\u001b[1;33m:\u001b[0m\u001b[1;33m\u001b[0m\u001b[1;33m\u001b[0m\u001b[0m\n\u001b[0;32m   1274\u001b[0m             \u001b[0mnumeric_cols\u001b[0m \u001b[1;33m=\u001b[0m \u001b[0mself\u001b[0m\u001b[1;33m.\u001b[0m\u001b[0m_find_numeric_cols\u001b[0m\u001b[1;33m(\u001b[0m\u001b[0mdata\u001b[0m\u001b[1;33m)\u001b[0m\u001b[1;33m\u001b[0m\u001b[1;33m\u001b[0m\u001b[0m\n",
      "\u001b[1;31mValueError\u001b[0m: Must specify `x_vars` and `y_vars`"
     ]
    }
   ],
   "source": [
    "sns.pairplot(df, y_vars=[\"PACKAGE (download by upload)\",\"Distance from exchange - DSL only\",\"MarketClass\",\"Region\",\"Country\",\"Geography\",\"Download - 24 (ave)\",\"Download - 24 min(ave)\",\"Download - 24 max (ave)\"])\n"
   ]
  },
  {
   "cell_type": "code",
   "execution_count": 11,
   "metadata": {},
   "outputs": [
    {
     "data": {
      "text/plain": [
       "<seaborn.axisgrid.FacetGrid at 0x23495cc5e80>"
      ]
     },
     "execution_count": 11,
     "metadata": {},
     "output_type": "execute_result"
    },
    {
     "data": {
      "image/png": "[encoded data removed]",
      "text/plain": [
       "<Figure size 360x360 with 1 Axes>"
      ]
     },
     "metadata": {
      "needs_background": "light"
     },
     "output_type": "display_data"
    }
   ],
   "source": [
    "\n",
    "sns.catplot(x=\"Technology\", y=\"Download - 24 (ave)\", kind = \"bar\",  data=df)"
   ]
  },
  {
   "cell_type": "code",
   "execution_count": 12,
   "metadata": {},
   "outputs": [
    {
     "data": {
      "text/plain": [
       "Technology\n",
       "ADSL1               2.870000\n",
       "ADSL2              10.118294\n",
       "Cable             206.481569\n",
       "FTTC               47.589276\n",
       "FTTP              171.114736\n",
       "Fixed Wireless     30.585000\n",
       "Name: Download - 24 (ave), dtype: float64"
      ]
     },
     "execution_count": 12,
     "metadata": {},
     "output_type": "execute_result"
    }
   ],
   "source": [
    "df.groupby(\"Technology\")[\"Download - 24 (ave)\"].mean()"
   ]
  },
  {
   "cell_type": "code",
   "execution_count": 13,
   "metadata": {},
   "outputs": [
    {
     "data": {
      "text/plain": [
       "Technology\n",
       "ADSL2    12.138163\n",
       "FTTC     47.891538\n",
       "Name: Download - 24 (ave), dtype: float64"
      ]
     },
     "execution_count": 13,
     "metadata": {},
     "output_type": "execute_result"
    }
   ],
   "source": [
    "skyData.groupby(\"Technology\")[\"Download - 24 (ave)\"].mean()\n"
   ]
  },
  {
   "cell_type": "code",
   "execution_count": 14,
   "metadata": {},
   "outputs": [
    {
     "data": {
      "text/plain": [
       "Technology\n",
       "ADSL1               2.870000\n",
       "ADSL2               9.712664\n",
       "Cable             206.481569\n",
       "FTTC               47.548985\n",
       "FTTP              171.114736\n",
       "Fixed Wireless     30.585000\n",
       "Name: Download - 24 (ave), dtype: float64"
      ]
     },
     "execution_count": 14,
     "metadata": {},
     "output_type": "execute_result"
    }
   ],
   "source": [
    "otherData.groupby(\"Technology\")[\"Download - 24 (ave)\"].mean()"
   ]
  },
  {
   "cell_type": "code",
   "execution_count": 15,
   "metadata": {},
   "outputs": [],
   "source": [
    "df_mod=df\n",
    "df_mod.loc[df_mod['ISP'] != \"Sky\", 'ISP'] = 'Competitors'\n",
    "#print(df_mod)"
   ]
  },
  {
   "cell_type": "code",
   "execution_count": 16,
   "metadata": {},
   "outputs": [
    {
     "name": "stdout",
     "output_type": "stream",
     "text": [
      "       unit_id          ISP Technology  PACKAGE (download by upload)  \\\n",
      "1         1323  Competitors       FTTC                            76   \n",
      "3         1360          Sky      ADSL2                            11   \n",
      "5         1381  Competitors       FTTC                            76   \n",
      "7         1403  Competitors       FTTC                            76   \n",
      "9         1404          Sky       FTTC                            76   \n",
      "...        ...          ...        ...                           ...   \n",
      "3460   6481369  Competitors       FTTC                            38   \n",
      "3461  29247893  Competitors       FTTC                            38   \n",
      "3462  25201485  Competitors       FTTC                            38   \n",
      "3463  29249389  Competitors       FTTC                            38   \n",
      "3464  25883373  Competitors       FTTC                            38   \n",
      "\n",
      "     Distance from exchange - DSL only MarketClass            Region  \\\n",
      "1                                  NaN           B            London   \n",
      "3                        2251 to 2500m           B        North West   \n",
      "5                                  NaN           B        South East   \n",
      "7                                  NaN           B  Northern Ireland   \n",
      "9                                  NaN           B  Northern Ireland   \n",
      "...                                ...         ...               ...   \n",
      "3460                               NaN           B          Scotland   \n",
      "3461                               NaN           B     West Midlands   \n",
      "3462                               NaN           B        North West   \n",
      "3463                               NaN           B        North West   \n",
      "3464                               NaN           B        South East   \n",
      "\n",
      "               Country Geography  Download - 24 (ave)  ...  iPlayerFailed24hr  \\\n",
      "1              England     Urban                65.53  ...                NaN   \n",
      "3              England     Rural                 5.91  ...              0.00%   \n",
      "5              England     Rural                71.62  ...                NaN   \n",
      "7     Northern Ireland     Urban                74.04  ...                NaN   \n",
      "9     Northern Ireland     Urban                61.48  ...                NaN   \n",
      "...                ...       ...                  ...  ...                ...   \n",
      "3460          Scotland     Urban                 2.23  ...                NaN   \n",
      "3461           England     Urban                29.63  ...                NaN   \n",
      "3462           England     Urban                35.74  ...                NaN   \n",
      "3463           England     Urban                37.45  ...                NaN   \n",
      "3464           England     Urban                26.33  ...                NaN   \n",
      "\n",
      "      iPlayerStartupDelay24hr  iPlayerUHDPeak  iPlayerHDPeak  iPlayerSDPeak  \\\n",
      "1                         NaN             NaN            NaN            NaN   \n",
      "3                     3082.76           0.00%         91.67%          8.33%   \n",
      "5                         NaN             NaN            NaN            NaN   \n",
      "7                         NaN             NaN            NaN            NaN   \n",
      "9                         NaN             NaN            NaN            NaN   \n",
      "...                       ...             ...            ...            ...   \n",
      "3460                      NaN             NaN            NaN            NaN   \n",
      "3461                      NaN             NaN            NaN            NaN   \n",
      "3462                      NaN             NaN            NaN            NaN   \n",
      "3463                      NaN             NaN            NaN            NaN   \n",
      "3464                      NaN             NaN            NaN            NaN   \n",
      "\n",
      "      iPlayerFailedPeak  iPlayerStartupDelayPeak  isp_wghts  Natweight  \\\n",
      "1                   NaN                      NaN   0.880000        NaN   \n",
      "3                 0.00%                  3320.73   1.633333     6.0001   \n",
      "5                   NaN                      NaN        NaN        NaN   \n",
      "7                   NaN                      NaN   1.172477        NaN   \n",
      "9                   NaN                      NaN   1.233943     1.8464   \n",
      "...                 ...                      ...        ...        ...   \n",
      "3460                NaN                      NaN   1.566667        NaN   \n",
      "3461                NaN                      NaN   0.854545        NaN   \n",
      "3462                NaN                      NaN   0.854545     0.4322   \n",
      "3463                NaN                      NaN   0.854545        NaN   \n",
      "3464                NaN                      NaN   0.671429     0.3975   \n",
      "\n",
      "      rural_weight  \n",
      "1              NaN  \n",
      "3          0.52838  \n",
      "5              NaN  \n",
      "7              NaN  \n",
      "9          0.96413  \n",
      "...            ...  \n",
      "3460           NaN  \n",
      "3461           NaN  \n",
      "3462       0.50728  \n",
      "3463           NaN  \n",
      "3464       0.50728  \n",
      "\n",
      "[2393 rows x 78 columns]\n"
     ]
    }
   ],
   "source": [
    "#df_mod=df_mod.drop(df_mod[df_mod.ISP == 'Sky'].index)\n",
    "df_mod= df_mod[(df_mod.Technology == \"FTTC\")|(df_mod.Technology == \"ADSL2\")]\n",
    "print(df_mod)\n"
   ]
  },
  {
   "cell_type": "code",
   "execution_count": null,
   "metadata": {},
   "outputs": [],
   "source": []
  },
  {
   "cell_type": "code",
   "execution_count": 17,
   "metadata": {},
   "outputs": [
    {
     "data": {
      "text/plain": [
       "<seaborn.axisgrid.FacetGrid at 0x23495b539a0>"
      ]
     },
     "execution_count": 17,
     "metadata": {},
     "output_type": "execute_result"
    },
    {
     "data": {
      "image/png": "[encoded data removed]",
      "text/plain": [
       "<Figure size 428.75x360 with 1 Axes>"
      ]
     },
     "metadata": {
      "needs_background": "light"
     },
     "output_type": "display_data"
    }
   ],
   "source": [
    "\n",
    "sns.catplot(x= \"ISP\", y= \"Download - 24 (ave)\", kind= \"violin\", hue= \"Technology\", showfliers = False, data=df_mod)"
   ]
  },
  {
   "cell_type": "code",
   "execution_count": 18,
   "metadata": {},
   "outputs": [
    {
     "data": {
      "text/plain": [
       "array([[<AxesSubplot:title={'center':'Download - 24 (ave)'}>]],\n",
       "      dtype=object)"
      ]
     },
     "execution_count": 18,
     "metadata": {},
     "output_type": "execute_result"
    },
    {
     "data": {
      "image/png": "[encoded data removed]",
      "text/plain": [
       "<Figure size 432x288 with 1 Axes>"
      ]
     },
     "metadata": {
      "needs_background": "light"
     },
     "output_type": "display_data"
    }
   ],
   "source": [
    "\n",
    "df.hist(column= \"Download - 24 (ave)\",bins=150)"
   ]
  },
  {
   "cell_type": "code",
   "execution_count": null,
   "metadata": {},
   "outputs": [],
   "source": []
  },
  {
   "cell_type": "code",
   "execution_count": null,
   "metadata": {},
   "outputs": [],
   "source": []
  }
 ],
 "metadata": {
  "kernelspec": {
   "display_name": "Python 3",
   "language": "python",
   "name": "python3"
  },
  "language_info": {
   "codemirror_mode": {
    "name": "ipython",
    "version": 3
   },
   "file_extension": ".py",
   "mimetype": "text/x-python",
   "name": "python",
   "nbconvert_exporter": "python",
   "pygments_lexer": "ipython3",
   "version": "3.8.2"
  }
 },
 "nbformat": 4,
 "nbformat_minor": 4
}
