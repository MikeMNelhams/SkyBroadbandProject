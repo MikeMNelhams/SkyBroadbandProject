{
  "nbformat": 4,
  "nbformat_minor": 0,
  "metadata": {
    "colab": {
      "name": "Copy of MDM3_Sky.ipynb",
      "provenance": [],
      "collapsed_sections": [],
      "include_colab_link": true
    },
    "kernelspec": {
      "name": "python3",
      "display_name": "Python 3"
    }
  },
  "cells": [
    {
      "cell_type": "markdown",
      "metadata": {
        "id": "view-in-github",
        "colab_type": "text"
      },
      "source": [
        "<a href=\"https://colab.research.google.com/github/MikeMNelhams/SkyBroadbandProject/blob/main/Copy_of_MDM3_Sky.ipynb\" target=\"_parent\"><img src=\"https://colab.research.google.com/assets/colab-badge.svg\" alt=\"Open In Colab\"/></a>"
      ]
    },
    {
      "cell_type": "code",
      "metadata": {
        "id": "z9qTEeQI9igm"
      },
      "source": [
        "import sys\n",
        "import pandas as pd\n",
        "import numpy as np\n",
        "from sklearn.linear_model import LinearRegression\n",
        "from sklearn.model_selection import train_test_split\n",
        "from sklearn.cluster import KMeans\n",
        "from matplotlib import pyplot as plt\n",
        "%matplotlib inline"
      ],
      "execution_count": 2,
      "outputs": []
    },
    {
      "cell_type": "code",
      "metadata": {
        "id": "qj8EffuWMaWP"
      },
      "source": [
        "### Importing from GitHub and turning csv files into data frames ###\n",
        "df_aug_18 = pd.read_csv(\"https://raw.githubusercontent.com/MikeMNelhams/SkyBroadbandProject/main/PerformanceData/Aug-18.csv\")\n",
        "\n",
        "# Making 4 copies rather than 4 imports (Faster and saves space)\n",
        "df_sky76 = df_aug_18.copy()\n",
        "df_sky38 = df_aug_18.copy()\n",
        "df_sky17 = df_aug_18.copy()\n",
        "df_sky8 = df_aug_18.copy()\n",
        "\n",
        "### removing other broadband providers ###\n",
        "### sky 76 ### \n",
        "filter = (df_sky76[\"Ofcom Product\"]==\"Sky 76\")\n",
        "df_sky76.where(filter, inplace = True) \n",
        "df_sky76.dropna(inplace = True)\n",
        "\n",
        "### removing other broadband providers ###\n",
        "### sky 38 ### \n",
        "filter = (df_sky38[\"Ofcom Product\"]==\"Sky 38\")\n",
        "df_sky38.where(filter, inplace = True) \n",
        "df_sky38.dropna(inplace = True)\n",
        "\n",
        "### removing other broadband providers ###\n",
        "### sky 17 ### \n",
        "filter = (df_sky17[\"Ofcom Product\"]==\"Sky 17\")\n",
        "df_sky17.where(filter, inplace = True) \n",
        "df_sky17.dropna(inplace = True)\n",
        "\n",
        "### removing other broadband providers ###\n",
        "### sky 38 ### \n",
        "filter = (df_sky8[\"Ofcom Product\"]==\"Sky 8\")\n",
        "df_sky8.where(filter, inplace = True) \n",
        "df_sky8.dropna(inplace = True)"
      ],
      "execution_count": 3,
      "outputs": []
    },
    {
      "cell_type": "code",
      "metadata": {
        "id": "XtnXGjpPbeAq",
        "outputId": "46a1ff8c-c4ed-48a6-80ee-c2941e87dc4a",
        "colab": {
          "base_uri": "https://localhost:8080/"
        }
      },
      "source": [
        "### trial with just the sky 76 data ###\n",
        "### seperating test and train data for Sky 76 ###\n",
        "x_data = df_sky76[['24 hr average upload speed','24 hour time to load webpage', '24 hour Latency', \n",
        "                   '24 hour Jitter Downstream', '24 hour Jitter Upstream', 'Disconnections', \n",
        "                   '24 hour - Youtube Start-up delay', '24 hour - Netflix Start-up delay', \n",
        "                   '24 hour - iPlayer Start-up delay', '24 hour packet loss']]\n",
        "\n",
        "x_data['24 hour packet loss'] = x_data['24 hour packet loss'].replace({'%':''}, regex=True)\n",
        "\n",
        "x_train, x_test, y_train, y_test = train_test_split(x_data, df_sky76['24 hr average download speed'])"
      ],
      "execution_count": 4,
      "outputs": [
        {
          "output_type": "stream",
          "text": [
            "/usr/local/lib/python3.6/dist-packages/ipykernel_launcher.py:7: SettingWithCopyWarning: \n",
            "A value is trying to be set on a copy of a slice from a DataFrame.\n",
            "Try using .loc[row_indexer,col_indexer] = value instead\n",
            "\n",
            "See the caveats in the documentation: https://pandas.pydata.org/pandas-docs/stable/user_guide/indexing.html#returning-a-view-versus-a-copy\n",
            "  import sys\n"
          ],
          "name": "stderr"
        }
      ]
    },
    {
      "cell_type": "code",
      "metadata": {
        "id": "31Umc1cXcWaw",
        "outputId": "e6513203-2f85-449c-b1a0-b90f76160632",
        "colab": {
          "base_uri": "https://localhost:8080/"
        }
      },
      "source": [
        "### Creating model using linear regression ###\n",
        "lr = LinearRegression()\n",
        "lr.fit(x_train.values, y_train.values)"
      ],
      "execution_count": 5,
      "outputs": [
        {
          "output_type": "execute_result",
          "data": {
            "text/plain": [
              "LinearRegression(copy_X=True, fit_intercept=True, n_jobs=None, normalize=False)"
            ]
          },
          "metadata": {
            "tags": []
          },
          "execution_count": 5
        }
      ]
    },
    {
      "cell_type": "code",
      "metadata": {
        "id": "0Fmq9zn_czpD",
        "outputId": "e5e580f1-0059-4e25-813d-b75b42e72d4b",
        "colab": {
          "base_uri": "https://localhost:8080/",
          "height": 282
        }
      },
      "source": [
        "### using model to predict test data ###\n",
        "### plotting against one x as to visualise model ###\n",
        "prediction = lr.predict(x_test.values)\n",
        "plt.scatter(x_test['24 hr average upload speed'], y_test, color='r')\n",
        "plt.scatter(x_test['24 hr average upload speed'], prediction, color='b')"
      ],
      "execution_count": 6,
      "outputs": [
        {
          "output_type": "execute_result",
          "data": {
            "text/plain": [
              "<matplotlib.collections.PathCollection at 0x7fea071710b8>"
            ]
          },
          "metadata": {
            "tags": []
          },
          "execution_count": 6
        },
        {
          "output_type": "display_data",
          "data": {
            "image/png": "[encoded data removed]",
            "text/plain": [
              "<Figure size 432x288 with 1 Axes>"
            ]
          },
          "metadata": {
            "tags": [],
            "needs_background": "light"
          }
        }
      ]
    },
    {
      "cell_type": "code",
      "metadata": {
        "id": "xJA6KblfhJQy",
        "outputId": "c4438d8d-92e6-4303-cfbe-e7114dfd8337",
        "colab": {
          "base_uri": "https://localhost:8080/"
        }
      },
      "source": [
        "### scoring the model ###\n",
        "lr.score(x_test.values, y_test.values)"
      ],
      "execution_count": 7,
      "outputs": [
        {
          "output_type": "execute_result",
          "data": {
            "text/plain": [
              "-0.5636829598687847"
            ]
          },
          "metadata": {
            "tags": []
          },
          "execution_count": 7
        }
      ]
    },
    {
      "cell_type": "code",
      "metadata": {
        "id": "lmf8b1aRhYRN",
        "outputId": "188861e5-4146-4ddd-e535-7aebc9d58809",
        "colab": {
          "base_uri": "https://localhost:8080/"
        }
      },
      "source": [
        "### equating coefficients for each feature ###\n",
        "### This tells us which feature is the best predictor of download speed ###\n",
        "features = ['24 hr average upload speed','24 hour time to load webpage', '24 hour Latency', \n",
        "                   '24 hour Jitter Downstream', '24 hour Jitter Upstream', 'Disconnections', \n",
        "                   '24 hour - Youtube Start-up delay', '24 hour - Netflix Start-up delay', \n",
        "                   '24 hour - iPlayer Start-up delay', '24 hour packet loss']\n",
        "for i in range(len(lr.coef_)):\n",
        "  print(features[i] + ' has a coefficient of ' + str(lr.coef_[i]))"
      ],
      "execution_count": 8,
      "outputs": [
        {
          "output_type": "stream",
          "text": [
            "24 hr average upload speed has a coefficient of 1.8929951612704996\n",
            "24 hour time to load webpage has a coefficient of -0.02971439979723321\n",
            "24 hour Latency has a coefficient of 0.20820614635216989\n",
            "24 hour Jitter Downstream has a coefficient of -7.744452422589836\n",
            "24 hour Jitter Upstream has a coefficient of -16.48710336517823\n",
            "Disconnections has a coefficient of -1.6627416944369553\n",
            "24 hour - Youtube Start-up delay has a coefficient of -0.0019942626736426192\n",
            "24 hour - Netflix Start-up delay has a coefficient of -0.003901183178709189\n",
            "24 hour - iPlayer Start-up delay has a coefficient of -0.018852140017841863\n",
            "24 hour packet loss has a coefficient of 13.257456820540106\n"
          ],
          "name": "stdout"
        }
      ]
    },
    {
      "cell_type": "code",
      "metadata": {
        "id": "wCQpnsGNpN0y"
      },
      "source": [
        "### Doing linear regression for all sky data ###\n",
        "### adding all versions of sky together ###\n",
        "df_sky_all = pd.concat([df_sky76, df_sky38, df_sky17, df_sky8])"
      ],
      "execution_count": 9,
      "outputs": []
    },
    {
      "cell_type": "code",
      "metadata": {
        "id": "q9rW1_6AqGf6",
        "outputId": "1e9358eb-38ed-44dd-961e-a1fa658849b9",
        "colab": {
          "base_uri": "https://localhost:8080/",
          "height": 581
        }
      },
      "source": [
        "### completing linear regression for new df ###\n",
        "### seperating test and train data for all sky broadbands ###\n",
        "x_data = df_sky_all[['24 hr average upload speed','24 hour time to load webpage', '24 hour Latency', \n",
        "                   '24 hour Jitter Downstream', '24 hour Jitter Upstream', 'Disconnections', \n",
        "                   '24 hour - Youtube Start-up delay', '24 hour - Netflix Start-up delay', \n",
        "                   '24 hour - iPlayer Start-up delay', '24 hour packet loss']]\n",
        "x_data['24 hour packet loss'] = x_data['24 hour packet loss'].replace({'%':''}, regex=True)\n",
        "x_train, x_test, y_train, y_test = train_test_split(x_data, df_sky_all['24 hr average download speed'])\n",
        "\n",
        "### Creating model using linear regression ###\n",
        "lr = LinearRegression()\n",
        "lr.fit(x_train.values, y_train.values)\n",
        "\n",
        "### using model to predict test data ###\n",
        "### plotting against one x as to visualise model ###\n",
        "prediction = lr.predict(x_test.values)\n",
        "plt.scatter(x_test['24 hr average upload speed'], y_test, color='r', label='Actual data')\n",
        "plt.scatter(x_test['24 hr average upload speed'], prediction, color='b', label='Predicted data')\n",
        "plt.xlabel('24 hr average upload speed')\n",
        "plt.ylabel('24 hr average download speed')\n",
        "plt.title('2D representation of test data vs prediction using LR')\n",
        "plt.legend()\n",
        "\n",
        "### scoring the model ###\n",
        "print('The score for this linear regression model is ' +str(lr.score(x_test.values, y_test.values)))\n",
        "\n",
        "### equating coefficients for each feature ###\n",
        "### This tells us which feature is the best predictor of download speed ###\n",
        "features = ['24 hr average upload speed','24 hour time to load webpage', '24 hour Latency', \n",
        "                   '24 hour Jitter Downstream', '24 hour Jitter Upstream', 'Disconnections', \n",
        "                   '24 hour - Youtube Start-up delay', '24 hour - Netflix Start-up delay', \n",
        "                   '24 hour - iPlayer Start-up delay', '24 hour packet loss']\n",
        "for i in range(len(lr.coef_)):\n",
        "  print(features[i] + ' has a coefficient of ' + str(lr.coef_[i]))"
      ],
      "execution_count": 10,
      "outputs": [
        {
          "output_type": "stream",
          "text": [
            "/usr/local/lib/python3.6/dist-packages/ipykernel_launcher.py:7: SettingWithCopyWarning: \n",
            "A value is trying to be set on a copy of a slice from a DataFrame.\n",
            "Try using .loc[row_indexer,col_indexer] = value instead\n",
            "\n",
            "See the caveats in the documentation: https://pandas.pydata.org/pandas-docs/stable/user_guide/indexing.html#returning-a-view-versus-a-copy\n",
            "  import sys\n"
          ],
          "name": "stderr"
        },
        {
          "output_type": "stream",
          "text": [
            "The score for this linear regression model is 0.8651508489027204\n",
            "24 hr average upload speed has a coefficient of 2.5676232338385145\n",
            "24 hour time to load webpage has a coefficient of -0.005617144670590209\n",
            "24 hour Latency has a coefficient of -0.015285699656628937\n",
            "24 hour Jitter Downstream has a coefficient of 1.3900007485854005\n",
            "24 hour Jitter Upstream has a coefficient of 0.6962731507562361\n",
            "Disconnections has a coefficient of 0.047320751314153676\n",
            "24 hour - Youtube Start-up delay has a coefficient of -0.0017758000722791385\n",
            "24 hour - Netflix Start-up delay has a coefficient of -0.0023255181110501534\n",
            "24 hour - iPlayer Start-up delay has a coefficient of -0.001037306030131981\n",
            "24 hour packet loss has a coefficient of -1.5343284619254056\n"
          ],
          "name": "stdout"
        },
        {
          "output_type": "display_data",
          "data": {
            "image/png": "[encoded data removed]",
            "text/plain": [
              "<Figure size 432x288 with 1 Axes>"
            ]
          },
          "metadata": {
            "tags": [],
            "needs_background": "light"
          }
        }
      ]
    }
  ]
}
